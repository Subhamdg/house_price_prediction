{
  "nbformat": 4,
  "nbformat_minor": 0,
  "metadata": {
    "colab": {
      "name": "house_price_predict.ipynb",
      "version": "0.3.2",
      "provenance": []
    },
    "kernelspec": {
      "name": "python3",
      "display_name": "Python 3"
    },
    "accelerator": "GPU"
  },
  "cells": [
    {
      "cell_type": "code",
      "metadata": {
        "id": "aXSABQMu1QRW",
        "colab_type": "code",
        "colab": {}
      },
      "source": [
        "import numpy as nm\n",
        "import pandas as pd\n",
        "\n",
        "import matplotlib.pyplot as plt"
      ],
      "execution_count": 0,
      "outputs": []
    },
    {
      "cell_type": "code",
      "metadata": {
        "id": "VNVsAfpS2Tp7",
        "colab_type": "code",
        "outputId": "b1db0540-8c68-4c0e-ed52-f11dd197d9fb",
        "colab": {
          "base_uri": "https://localhost:8080/",
          "height": 34
        }
      },
      "source": [
        "test=pd.read_csv('test.csv')\n",
        "train=pd.read_csv('train.csv')\n",
        "#train=train.append(test, ignore_index=True)\n",
        "train.shape"
      ],
      "execution_count": 250,
      "outputs": [
        {
          "output_type": "execute_result",
          "data": {
            "text/plain": [
              "(1460, 81)"
            ]
          },
          "metadata": {
            "tags": []
          },
          "execution_count": 250
        }
      ]
    },
    {
      "cell_type": "code",
      "metadata": {
        "id": "bo36Y-yrc_my",
        "colab_type": "code",
        "outputId": "da4ac2cd-2085-4ec2-f03c-aab816229b54",
        "colab": {
          "base_uri": "https://localhost:8080/",
          "height": 1094
        }
      },
      "source": [
        "train.dtypes\n"
      ],
      "execution_count": 251,
      "outputs": [
        {
          "output_type": "execute_result",
          "data": {
            "text/plain": [
              "Id                 int64\n",
              "MSSubClass         int64\n",
              "MSZoning          object\n",
              "LotFrontage      float64\n",
              "LotArea            int64\n",
              "Street            object\n",
              "Alley             object\n",
              "LotShape          object\n",
              "LandContour       object\n",
              "Utilities         object\n",
              "LotConfig         object\n",
              "LandSlope         object\n",
              "Neighborhood      object\n",
              "Condition1        object\n",
              "Condition2        object\n",
              "BldgType          object\n",
              "HouseStyle        object\n",
              "OverallQual        int64\n",
              "OverallCond        int64\n",
              "YearBuilt          int64\n",
              "YearRemodAdd       int64\n",
              "RoofStyle         object\n",
              "RoofMatl          object\n",
              "Exterior1st       object\n",
              "Exterior2nd       object\n",
              "MasVnrType        object\n",
              "MasVnrArea       float64\n",
              "ExterQual         object\n",
              "ExterCond         object\n",
              "Foundation        object\n",
              "                  ...   \n",
              "BedroomAbvGr       int64\n",
              "KitchenAbvGr       int64\n",
              "KitchenQual       object\n",
              "TotRmsAbvGrd       int64\n",
              "Functional        object\n",
              "Fireplaces         int64\n",
              "FireplaceQu       object\n",
              "GarageType        object\n",
              "GarageYrBlt      float64\n",
              "GarageFinish      object\n",
              "GarageCars         int64\n",
              "GarageArea         int64\n",
              "GarageQual        object\n",
              "GarageCond        object\n",
              "PavedDrive        object\n",
              "WoodDeckSF         int64\n",
              "OpenPorchSF        int64\n",
              "EnclosedPorch      int64\n",
              "3SsnPorch          int64\n",
              "ScreenPorch        int64\n",
              "PoolArea           int64\n",
              "PoolQC            object\n",
              "Fence             object\n",
              "MiscFeature       object\n",
              "MiscVal            int64\n",
              "MoSold             int64\n",
              "YrSold             int64\n",
              "SaleType          object\n",
              "SaleCondition     object\n",
              "SalePrice          int64\n",
              "Length: 81, dtype: object"
            ]
          },
          "metadata": {
            "tags": []
          },
          "execution_count": 251
        }
      ]
    },
    {
      "cell_type": "code",
      "metadata": {
        "id": "oxbqmsDuYe-K",
        "colab_type": "code",
        "outputId": "2b19458c-2db2-4dbb-d6a6-e6d03099eefa",
        "colab": {
          "base_uri": "https://localhost:8080/",
          "height": 173
        }
      },
      "source": [
        "b=nm.array([])\n",
        "a=nm.array([])\n",
        "for i in train:\n",
        "  if(train[i].dtypes=='object'):\n",
        "    b=nm.append(b,i)\n",
        "  elif(train[i].dtypes!='object'):\n",
        "    a=nm.append(a,i)\n",
        "print(b)"
      ],
      "execution_count": 252,
      "outputs": [
        {
          "output_type": "stream",
          "text": [
            "['MSZoning' 'Street' 'Alley' 'LotShape' 'LandContour' 'Utilities'\n",
            " 'LotConfig' 'LandSlope' 'Neighborhood' 'Condition1' 'Condition2'\n",
            " 'BldgType' 'HouseStyle' 'RoofStyle' 'RoofMatl' 'Exterior1st'\n",
            " 'Exterior2nd' 'MasVnrType' 'ExterQual' 'ExterCond' 'Foundation'\n",
            " 'BsmtQual' 'BsmtCond' 'BsmtExposure' 'BsmtFinType1' 'BsmtFinType2'\n",
            " 'Heating' 'HeatingQC' 'CentralAir' 'Electrical' 'KitchenQual'\n",
            " 'Functional' 'FireplaceQu' 'GarageType' 'GarageFinish' 'GarageQual'\n",
            " 'GarageCond' 'PavedDrive' 'PoolQC' 'Fence' 'MiscFeature' 'SaleType'\n",
            " 'SaleCondition']\n"
          ],
          "name": "stdout"
        }
      ]
    },
    {
      "cell_type": "code",
      "metadata": {
        "id": "hUVduxX9wWa-",
        "colab_type": "code",
        "colab": {}
      },
      "source": [
        "c=nm.array([])\n",
        "for i in train:\n",
        "  if(train[i].isnull().sum()>200):\n",
        "    if(train[i].dtypes=='object'):\n",
        "      c=nm.append(c,i)\n",
        "      "
      ],
      "execution_count": 0,
      "outputs": []
    },
    {
      "cell_type": "code",
      "metadata": {
        "id": "Qt4Fe8U3g7kI",
        "colab_type": "code",
        "outputId": "0ba69a99-1f7e-4163-c7b6-f1f30edac243",
        "colab": {
          "base_uri": "https://localhost:8080/",
          "height": 72
        }
      },
      "source": [
        "from sklearn.preprocessing import Imputer\n",
        "imp=Imputer(missing_values=\"NaN\", strategy=\"median\")\n",
        "for i in a:\n",
        "  train[i]=imp.fit_transform(train[[i]]).ravel()"
      ],
      "execution_count": 254,
      "outputs": [
        {
          "output_type": "stream",
          "text": [
            "/usr/local/lib/python3.6/dist-packages/sklearn/utils/deprecation.py:66: DeprecationWarning: Class Imputer is deprecated; Imputer was deprecated in version 0.20 and will be removed in 0.22. Import impute.SimpleImputer from sklearn instead.\n",
            "  warnings.warn(msg, category=DeprecationWarning)\n"
          ],
          "name": "stderr"
        }
      ]
    },
    {
      "cell_type": "code",
      "metadata": {
        "id": "hCWgC5cjx6Rz",
        "colab_type": "code",
        "outputId": "307e4fd3-de78-4081-ac4c-0d741a00c182",
        "colab": {
          "base_uri": "https://localhost:8080/",
          "height": 292
        }
      },
      "source": [
        "\n",
        "plt.matshow(train.corr())\n",
        "#from pandas.plotting import scatter_matrix as sm\n",
        "#sm(train)\n",
        "\n",
        "\n"
      ],
      "execution_count": 255,
      "outputs": [
        {
          "output_type": "execute_result",
          "data": {
            "text/plain": [
              "<matplotlib.image.AxesImage at 0x7f3997bc1780>"
            ]
          },
          "metadata": {
            "tags": []
          },
          "execution_count": 255
        },
        {
          "output_type": "display_data",
          "data": {
            "image/png": "[encoded data removed]",
            "text/plain": [
              "<Figure size 288x288 with 1 Axes>"
            ]
          },
          "metadata": {
            "tags": []
          }
        }
      ]
    },
    {
      "cell_type": "code",
      "metadata": {
        "id": "bz_ngbB8_18z",
        "colab_type": "code",
        "colab": {}
      },
      "source": [
        "for i in c:\n",
        "  del train[i]\n"
      ],
      "execution_count": 0,
      "outputs": []
    },
    {
      "cell_type": "code",
      "metadata": {
        "id": "klaJDCliAaaD",
        "colab_type": "code",
        "colab": {}
      },
      "source": [
        "train=train.dropna(how='any')"
      ],
      "execution_count": 0,
      "outputs": []
    },
    {
      "cell_type": "code",
      "metadata": {
        "id": "LHWySXwEbsOt",
        "colab_type": "code",
        "colab": {}
      },
      "source": [
        "d=nm.array([])\n",
        "for i in train:\n",
        "  if(train[i].dtypes=='object'):\n",
        "    d=nm.append(d,i)"
      ],
      "execution_count": 0,
      "outputs": []
    },
    {
      "cell_type": "code",
      "metadata": {
        "id": "QYO7oK_UNXul",
        "colab_type": "code",
        "colab": {}
      },
      "source": [
        "train.head\n",
        "train=pd.get_dummies(train,prefix=d)\n",
        "\n"
      ],
      "execution_count": 0,
      "outputs": []
    },
    {
      "cell_type": "code",
      "metadata": {
        "id": "m3_rSleLTVj9",
        "colab_type": "code",
        "outputId": "28fe7d48-5f04-4f07-980c-542299ddc43a",
        "colab": {
          "base_uri": "https://localhost:8080/",
          "height": 1094
        }
      },
      "source": [
        "train.dtypes"
      ],
      "execution_count": 260,
      "outputs": [
        {
          "output_type": "execute_result",
          "data": {
            "text/plain": [
              "Id                       float64\n",
              "MSSubClass               float64\n",
              "LotFrontage              float64\n",
              "LotArea                  float64\n",
              "OverallQual              float64\n",
              "OverallCond              float64\n",
              "YearBuilt                float64\n",
              "YearRemodAdd             float64\n",
              "MasVnrArea               float64\n",
              "BsmtFinSF1               float64\n",
              "BsmtFinSF2               float64\n",
              "BsmtUnfSF                float64\n",
              "TotalBsmtSF              float64\n",
              "1stFlrSF                 float64\n",
              "2ndFlrSF                 float64\n",
              "LowQualFinSF             float64\n",
              "GrLivArea                float64\n",
              "BsmtFullBath             float64\n",
              "BsmtHalfBath             float64\n",
              "FullBath                 float64\n",
              "HalfBath                 float64\n",
              "BedroomAbvGr             float64\n",
              "KitchenAbvGr             float64\n",
              "TotRmsAbvGrd             float64\n",
              "Fireplaces               float64\n",
              "GarageYrBlt              float64\n",
              "GarageCars               float64\n",
              "GarageArea               float64\n",
              "WoodDeckSF               float64\n",
              "OpenPorchSF              float64\n",
              "                          ...   \n",
              "GarageFinish_RFn           uint8\n",
              "GarageFinish_Unf           uint8\n",
              "GarageQual_Ex              uint8\n",
              "GarageQual_Fa              uint8\n",
              "GarageQual_Gd              uint8\n",
              "GarageQual_Po              uint8\n",
              "GarageQual_TA              uint8\n",
              "GarageCond_Ex              uint8\n",
              "GarageCond_Fa              uint8\n",
              "GarageCond_Gd              uint8\n",
              "GarageCond_Po              uint8\n",
              "GarageCond_TA              uint8\n",
              "PavedDrive_N               uint8\n",
              "PavedDrive_P               uint8\n",
              "PavedDrive_Y               uint8\n",
              "SaleType_COD               uint8\n",
              "SaleType_CWD               uint8\n",
              "SaleType_Con               uint8\n",
              "SaleType_ConLD             uint8\n",
              "SaleType_ConLI             uint8\n",
              "SaleType_ConLw             uint8\n",
              "SaleType_New               uint8\n",
              "SaleType_Oth               uint8\n",
              "SaleType_WD                uint8\n",
              "SaleCondition_Abnorml      uint8\n",
              "SaleCondition_AdjLand      uint8\n",
              "SaleCondition_Alloca       uint8\n",
              "SaleCondition_Family       uint8\n",
              "SaleCondition_Normal       uint8\n",
              "SaleCondition_Partial      uint8\n",
              "Length: 267, dtype: object"
            ]
          },
          "metadata": {
            "tags": []
          },
          "execution_count": 260
        }
      ]
    },
    {
      "cell_type": "code",
      "metadata": {
        "id": "jRzCfp6aciQE",
        "colab_type": "code",
        "outputId": "21969d01-45f8-4045-f9e6-9a53a30c0279",
        "colab": {
          "base_uri": "https://localhost:8080/",
          "height": 34
        }
      },
      "source": [
        "x=train\n",
        "y=train['SalePrice']\n",
        "print(train.shape)"
      ],
      "execution_count": 261,
      "outputs": [
        {
          "output_type": "stream",
          "text": [
            "(1338, 267)\n"
          ],
          "name": "stdout"
        }
      ]
    },
    {
      "cell_type": "code",
      "metadata": {
        "id": "wHDW0e1Kes-D",
        "colab_type": "code",
        "colab": {}
      },
      "source": [
        "del x['SalePrice']"
      ],
      "execution_count": 0,
      "outputs": []
    },
    {
      "cell_type": "code",
      "metadata": {
        "id": "hX4NpDjjfARd",
        "colab_type": "code",
        "outputId": "1e408706-65ca-42c5-99f0-ab210790c62e",
        "colab": {
          "base_uri": "https://localhost:8080/",
          "height": 52
        }
      },
      "source": [
        "print(x.shape)\n",
        "print(y.shape)"
      ],
      "execution_count": 263,
      "outputs": [
        {
          "output_type": "stream",
          "text": [
            "(1338, 266)\n",
            "(1338,)\n"
          ],
          "name": "stdout"
        }
      ]
    },
    {
      "cell_type": "code",
      "metadata": {
        "id": "vfg-eNSZlDjl",
        "colab_type": "code",
        "colab": {}
      },
      "source": [
        "aa=nm.array([])\n",
        "for i in test:\n",
        "  if(test[i].isnull().sum()>200):\n",
        "    aa=nm.append(aa,i)"
      ],
      "execution_count": 0,
      "outputs": []
    },
    {
      "cell_type": "code",
      "metadata": {
        "id": "woz2tQC97GWc",
        "colab_type": "code",
        "colab": {
          "base_uri": "https://localhost:8080/",
          "height": 72
        },
        "outputId": "47aaaf06-1933-41cd-de2a-f598e806450f"
      },
      "source": [
        "bb=nm.array([])\n",
        "for i in test:\n",
        "  if(test[i].dtypes!='object'):\n",
        "    bb=nm.append(bb,i)\n",
        "from sklearn.preprocessing import Imputer\n",
        "imp=Imputer(missing_values=\"NaN\", strategy=\"median\")\n",
        "for i in bb:\n",
        "  test[i]=imp.fit_transform(test[[i]]).ravel()"
      ],
      "execution_count": 265,
      "outputs": [
        {
          "output_type": "stream",
          "text": [
            "/usr/local/lib/python3.6/dist-packages/sklearn/utils/deprecation.py:66: DeprecationWarning: Class Imputer is deprecated; Imputer was deprecated in version 0.20 and will be removed in 0.22. Import impute.SimpleImputer from sklearn instead.\n",
            "  warnings.warn(msg, category=DeprecationWarning)\n"
          ],
          "name": "stderr"
        }
      ]
    },
    {
      "cell_type": "code",
      "metadata": {
        "id": "88tpSxgVlyZJ",
        "colab_type": "code",
        "colab": {}
      },
      "source": [
        "xx=test\n",
        "for i in aa:\n",
        "  del xx[i]\n",
        "xx=xx.dropna(how='any')"
      ],
      "execution_count": 0,
      "outputs": []
    },
    {
      "cell_type": "code",
      "metadata": {
        "id": "Dl_6Fr4xl-My",
        "colab_type": "code",
        "colab": {}
      },
      "source": [
        "\n",
        "xx=pd.get_dummies(xx,prefix=d)\n",
        "test=pd.get_dummies(test,prefix=d)\n"
      ],
      "execution_count": 0,
      "outputs": []
    },
    {
      "cell_type": "code",
      "metadata": {
        "id": "CDVnhdkY1La3",
        "colab_type": "code",
        "colab": {}
      },
      "source": [
        "k1=nm.array([])\n",
        "k2=nm.array([])\n",
        "for i in  x:\n",
        "  k1=nm.append(k1,i)\n",
        "for i in xx:\n",
        "  k2=nm.append(k2,i)"
      ],
      "execution_count": 0,
      "outputs": []
    },
    {
      "cell_type": "code",
      "metadata": {
        "id": "iET4vPtl5m36",
        "colab_type": "code",
        "colab": {}
      },
      "source": [
        "j=nm.intersect1d(k1,k2)\n"
      ],
      "execution_count": 0,
      "outputs": []
    },
    {
      "cell_type": "code",
      "metadata": {
        "id": "eb6snBms6BML",
        "colab_type": "code",
        "colab": {}
      },
      "source": [
        "data_x=x[j]\n",
        "sub=xx[j]"
      ],
      "execution_count": 0,
      "outputs": []
    },
    {
      "cell_type": "code",
      "metadata": {
        "id": "U1jg6R8n6Ht4",
        "colab_type": "code",
        "colab": {
          "base_uri": "https://localhost:8080/",
          "height": 52
        },
        "outputId": "126f8c29-83f7-433e-e936-76f8295bbdf9"
      },
      "source": [
        "print(data_x.shape)\n",
        "sub.shape"
      ],
      "execution_count": 271,
      "outputs": [
        {
          "output_type": "stream",
          "text": [
            "(1338, 244)\n"
          ],
          "name": "stdout"
        },
        {
          "output_type": "execute_result",
          "data": {
            "text/plain": [
              "(1319, 244)"
            ]
          },
          "metadata": {
            "tags": []
          },
          "execution_count": 271
        }
      ]
    },
    {
      "cell_type": "code",
      "metadata": {
        "id": "VmC--wwC9P38",
        "colab_type": "code",
        "colab": {}
      },
      "source": [
        "data_y=y"
      ],
      "execution_count": 0,
      "outputs": []
    },
    {
      "cell_type": "code",
      "metadata": {
        "id": "oRcz04s8_EMz",
        "colab_type": "code",
        "colab": {
          "base_uri": "https://localhost:8080/",
          "height": 52
        },
        "outputId": "bd4eeb6a-c205-484e-9b93-b0ac5bda1767"
      },
      "source": [
        "print(data_x.shape)\n",
        "print(data_y.shape)"
      ],
      "execution_count": 273,
      "outputs": [
        {
          "output_type": "stream",
          "text": [
            "(1338, 244)\n",
            "(1338,)\n"
          ],
          "name": "stdout"
        }
      ]
    },
    {
      "cell_type": "code",
      "metadata": {
        "id": "7yNw92lfITiU",
        "colab_type": "code",
        "colab": {
          "base_uri": "https://localhost:8080/",
          "height": 1148
        },
        "outputId": "87274daa-46dc-4485-c50a-5606247c85e0"
      },
      "source": [
        "import statsmodels.api as sm\n",
        "x1 = sm.add_constant(data_x)\n",
        "val = sm.OLS(data_y,x1).fit()\n",
        "val.pvalues"
      ],
      "execution_count": 274,
      "outputs": [
        {
          "output_type": "stream",
          "text": [
            "/usr/local/lib/python3.6/dist-packages/numpy/core/fromnumeric.py:2389: FutureWarning: Method .ptp is deprecated and will be removed in a future version. Use numpy.ptp instead.\n",
            "  return ptp(axis=axis, out=out, **kwargs)\n"
          ],
          "name": "stderr"
        },
        {
          "output_type": "execute_result",
          "data": {
            "text/plain": [
              "const                    0.666478\n",
              "1stFlrSF                 0.149558\n",
              "2ndFlrSF                 0.000061\n",
              "3SsnPorch                0.096507\n",
              "BedroomAbvGr             0.017301\n",
              "BldgType_1Fam            0.528510\n",
              "BldgType_2fmCon          0.503790\n",
              "BldgType_Duplex          0.570690\n",
              "BldgType_Twnhs           0.950987\n",
              "BldgType_TwnhsE          0.867731\n",
              "BsmtCond_Fa              0.824672\n",
              "BsmtCond_Gd              0.804355\n",
              "BsmtCond_Po              0.541021\n",
              "BsmtCond_TA              0.709120\n",
              "BsmtExposure_Av          0.683995\n",
              "BsmtExposure_Gd          0.432998\n",
              "BsmtExposure_Mn          0.773528\n",
              "BsmtExposure_No          0.806911\n",
              "BsmtFinSF1               0.405219\n",
              "BsmtFinSF2               0.725018\n",
              "BsmtFinType1_ALQ         0.681444\n",
              "BsmtFinType1_BLQ         0.662851\n",
              "BsmtFinType1_GLQ         0.538375\n",
              "BsmtFinType1_LwQ         0.741929\n",
              "BsmtFinType1_Rec         0.617023\n",
              "BsmtFinType1_Unf         0.776894\n",
              "BsmtFinType2_ALQ         0.657498\n",
              "BsmtFinType2_BLQ         0.752745\n",
              "BsmtFinType2_GLQ         0.482851\n",
              "BsmtFinType2_LwQ         0.755484\n",
              "                           ...   \n",
              "RoofStyle_Gable          0.786180\n",
              "RoofStyle_Gambrel        0.968760\n",
              "RoofStyle_Hip            0.844683\n",
              "RoofStyle_Mansard        0.909974\n",
              "RoofStyle_Shed           0.698762\n",
              "SaleCondition_Abnorml    0.830267\n",
              "SaleCondition_AdjLand    0.335978\n",
              "SaleCondition_Alloca     0.438035\n",
              "SaleCondition_Family     0.864158\n",
              "SaleCondition_Normal     0.693666\n",
              "SaleCondition_Partial    0.760368\n",
              "SaleType_COD             0.743660\n",
              "SaleType_CWD             0.630086\n",
              "SaleType_Con             0.375134\n",
              "SaleType_ConLD           0.652597\n",
              "SaleType_ConLI           0.980945\n",
              "SaleType_ConLw           0.768446\n",
              "SaleType_New             0.264106\n",
              "SaleType_Oth             0.495392\n",
              "SaleType_WD              0.733680\n",
              "ScreenPorch              0.019381\n",
              "Street_Grvl              0.888131\n",
              "Street_Pave              0.471899\n",
              "TotRmsAbvGrd             0.033851\n",
              "TotalBsmtSF              0.698899\n",
              "Utilities_AllPub         0.030598\n",
              "WoodDeckSF               0.045761\n",
              "YearBuilt                0.085489\n",
              "YearRemodAdd             0.423235\n",
              "YrSold                   0.371857\n",
              "Length: 245, dtype: float64"
            ]
          },
          "metadata": {
            "tags": []
          },
          "execution_count": 274
        }
      ]
    },
    {
      "cell_type": "code",
      "metadata": {
        "id": "xAvoElk_JjrW",
        "colab_type": "code",
        "colab": {
          "base_uri": "https://localhost:8080/",
          "height": 72
        },
        "outputId": "af524f93-ded0-4bda-fef1-b42001055cba"
      },
      "source": [
        "col = list(data_x.columns)\n",
        "pmax = 1\n",
        "while (len(col)>0):\n",
        "    p= []\n",
        "    x1 = data_x[col]\n",
        "    x1 = sm.add_constant(x1)\n",
        "    val = sm.OLS(data_y,x1).fit()\n",
        "    p = pd.Series(val.pvalues.values[1:],index = col)      \n",
        "    pmax = max(p)\n",
        "    f = p.idxmax()\n",
        "    if(pmax>0.05):\n",
        "        col.remove(f)\n",
        "    else:\n",
        "        break\n",
        "\n",
        "imp = col"
      ],
      "execution_count": 275,
      "outputs": [
        {
          "output_type": "stream",
          "text": [
            "/usr/local/lib/python3.6/dist-packages/numpy/core/fromnumeric.py:2389: FutureWarning: Method .ptp is deprecated and will be removed in a future version. Use numpy.ptp instead.\n",
            "  return ptp(axis=axis, out=out, **kwargs)\n"
          ],
          "name": "stderr"
        }
      ]
    },
    {
      "cell_type": "code",
      "metadata": {
        "id": "BtffRhDOKc-0",
        "colab_type": "code",
        "colab": {
          "base_uri": "https://localhost:8080/",
          "height": 34
        },
        "outputId": "007bb820-2673-44f1-aa55-6f90f97fb3c0"
      },
      "source": [
        "abc=test\n",
        "data_x=data_x[imp]\n",
        "test=test[imp]\n",
        "test.shape"
      ],
      "execution_count": 276,
      "outputs": [
        {
          "output_type": "execute_result",
          "data": {
            "text/plain": [
              "(1459, 60)"
            ]
          },
          "metadata": {
            "tags": []
          },
          "execution_count": 276
        }
      ]
    },
    {
      "cell_type": "code",
      "metadata": {
        "id": "PZbMeqCQLLU2",
        "colab_type": "code",
        "colab": {
          "base_uri": "https://localhost:8080/",
          "height": 34
        },
        "outputId": "56f4382b-1c50-4624-852c-7adcc788f768"
      },
      "source": [
        "data_x.shape"
      ],
      "execution_count": 277,
      "outputs": [
        {
          "output_type": "execute_result",
          "data": {
            "text/plain": [
              "(1338, 60)"
            ]
          },
          "metadata": {
            "tags": []
          },
          "execution_count": 277
        }
      ]
    },
    {
      "cell_type": "code",
      "metadata": {
        "id": "VvgACIEmLZ7c",
        "colab_type": "code",
        "colab": {
          "base_uri": "https://localhost:8080/",
          "height": 34
        },
        "outputId": "9d0ce8c0-98e9-47dc-d5d1-beace2a90667"
      },
      "source": [
        "train_x=data_x.sample(frac=0.8)\n",
        "train_y=data_y.sample(frac=0.8)\n",
        "test_x=data_x.drop(train_x.index)\n",
        "test_y=data_y.drop(train_y.index)\n",
        "train_x.shape"
      ],
      "execution_count": 278,
      "outputs": [
        {
          "output_type": "execute_result",
          "data": {
            "text/plain": [
              "(1070, 60)"
            ]
          },
          "metadata": {
            "tags": []
          },
          "execution_count": 278
        }
      ]
    },
    {
      "cell_type": "code",
      "metadata": {
        "id": "o5jKJCRxCNNZ",
        "colab_type": "code",
        "colab": {}
      },
      "source": [
        "from sklearn.preprocessing import StandardScaler\n",
        "\n",
        "sc = StandardScaler()  \n",
        "train_x = sc.fit_transform(train_x)  \n",
        "test_x = sc.transform(test_x)  "
      ],
      "execution_count": 0,
      "outputs": []
    },
    {
      "cell_type": "code",
      "metadata": {
        "id": "HccfvqdbDJHb",
        "colab_type": "code",
        "colab": {}
      },
      "source": [
        "from sklearn.ensemble import RandomForestRegressor\n",
        "\n",
        "reg = RandomForestRegressor(bootstrap=True,n_estimators=10000, random_state=0)  \n",
        "reg.fit(train_x, train_y)  \n",
        "pred_y = reg.predict(test_x)\n",
        "pred_sub=reg.predict(test)"
      ],
      "execution_count": 0,
      "outputs": []
    },
    {
      "cell_type": "code",
      "metadata": {
        "id": "MD92ZYkDDrqd",
        "colab_type": "code",
        "colab": {
          "base_uri": "https://localhost:8080/",
          "height": 86
        },
        "outputId": "9822f16c-d74a-4450-9826-4374ba97071c"
      },
      "source": [
        "from sklearn import metrics\n",
        "\n",
        "print(metrics.mean_absolute_error(test_y, pred_y))  \n",
        "print(metrics.mean_squared_error(test_y, pred_y))  \n",
        "print(nm.sqrt(metrics.mean_squared_error(test_y, pred_y)))  \n",
        "errors = abs(pred_y - test_y)\n",
        "mape = 100 * (errors / test_y)\n",
        "accuracy = 100 - nm.mean(mape)\n",
        "print('Accuracy:', round(accuracy, 2), '%.')\n"
      ],
      "execution_count": 306,
      "outputs": [
        {
          "output_type": "stream",
          "text": [
            "60041.45094459844\n",
            "6548392548.66541\n",
            "80922.13880431863\n",
            "Accuracy: 65.22 %.\n"
          ],
          "name": "stdout"
        }
      ]
    },
    {
      "cell_type": "code",
      "metadata": {
        "id": "BCwaKHDwMDTy",
        "colab_type": "code",
        "colab": {
          "base_uri": "https://localhost:8080/",
          "height": 52
        },
        "outputId": "1fed609d-97f0-4289-e65a-f5dab1573a21"
      },
      "source": [
        "print(pred_sub)"
      ],
      "execution_count": 308,
      "outputs": [
        {
          "output_type": "stream",
          "text": [
            "[194747.2718 227988.7468 214342.6569 ... 221997.9893 209332.9338\n",
            " 211107.2379]\n"
          ],
          "name": "stdout"
        }
      ]
    },
    {
      "cell_type": "code",
      "metadata": {
        "id": "peY1eAbmOpgy",
        "colab_type": "code",
        "colab": {}
      },
      "source": [
        "jk=abc['Id']\n",
        "pred_sub=nm.round(pred_sub,2)"
      ],
      "execution_count": 0,
      "outputs": []
    },
    {
      "cell_type": "code",
      "metadata": {
        "id": "83E19bhnTYiX",
        "colab_type": "code",
        "colab": {}
      },
      "source": [
        "jk=jk.astype(nm.int32)\n",
        "subm=pd.DataFrame({'Id':jk,'SalePrice':pred_sub})"
      ],
      "execution_count": 0,
      "outputs": []
    },
    {
      "cell_type": "code",
      "metadata": {
        "id": "7X3q_geuW2OH",
        "colab_type": "code",
        "colab": {
          "base_uri": "https://localhost:8080/",
          "height": 69
        },
        "outputId": "1a57dcae-2671-4de2-8ff9-02585769c280"
      },
      "source": [
        "subm.dtypes"
      ],
      "execution_count": 311,
      "outputs": [
        {
          "output_type": "execute_result",
          "data": {
            "text/plain": [
              "Id             int32\n",
              "SalePrice    float64\n",
              "dtype: object"
            ]
          },
          "metadata": {
            "tags": []
          },
          "execution_count": 311
        }
      ]
    },
    {
      "cell_type": "code",
      "metadata": {
        "id": "cKEY9OdcTzlh",
        "colab_type": "code",
        "colab": {}
      },
      "source": [
        "subm.to_csv('submission.csv', encoding='utf-8', index=False)"
      ],
      "execution_count": 0,
      "outputs": []
    },
    {
      "cell_type": "code",
      "metadata": {
        "id": "MPQuLhvHaUk6",
        "colab_type": "code",
        "colab": {
          "base_uri": "https://localhost:8080/",
          "height": 34
        },
        "outputId": "e5427f08-596d-4578-d212-405d972ae32d"
      },
      "source": [
        "subm.shape"
      ],
      "execution_count": 313,
      "outputs": [
        {
          "output_type": "execute_result",
          "data": {
            "text/plain": [
              "(1459, 2)"
            ]
          },
          "metadata": {
            "tags": []
          },
          "execution_count": 313
        }
      ]
    }
  ]
}